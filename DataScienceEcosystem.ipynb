{
 "cells": [
  {
   "cell_type": "markdown",
   "metadata": {},
   "source": [
    "<center>\n",
    "    <img src=\"https://cf-courses-data.s3.us.cloud-object-storage.appdomain.cloud/IBMDeveloperSkillsNetwork-DS0105EN-SkillsNetwork/labs/Module2/images/SN_web_lightmode.png\" width=\"300\" alt=\"cognitiveclass.ai logo\">\n",
    "</center>\n"
   ]
  },
  {
   "cell_type": "markdown",
   "metadata": {},
   "source": [
    "#### Add your code below following the instructions given in the course\n"
   ]
  },
  {
   "cell_type": "markdown",
   "metadata": {},
   "source": [
    "***Exercise 2:** Create a markdown cell with the title of the notebook*"
   ]
  },
  {
   "cell_type": "markdown",
   "metadata": {
    "tags": []
   },
   "source": [
    "# Data Science Tools and Ecosystem"
   ]
  },
  {
   "cell_type": "markdown",
   "metadata": {},
   "source": [
    "***Exercise 10:** Insert a markdown cell to list Objectives*"
   ]
  },
  {
   "cell_type": "markdown",
   "metadata": {},
   "source": [
    "> **Objectives:**\n",
    ">* List popular languages for Data Science.\n",
    ">* List popular libraries for Data Science.\n",
    ">* List popular tools for Data Science.\n",
    ">* Create a Jupyter Notebook with markdown and code cells \n",
    ">* Share your Jupyter Notebook publicly on GitHub"
   ]
  },
  {
   "cell_type": "markdown",
   "metadata": {},
   "source": [
    "***Exercise 3:** Create a markdown cell for an introduction*"
   ]
  },
  {
   "cell_type": "markdown",
   "metadata": {
    "tags": []
   },
   "source": [
    "> ## In this notebook, Data Science Tools and Ecosystem are summarized."
   ]
  },
  {
   "cell_type": "markdown",
   "metadata": {},
   "source": [
    "***Exercise 4:** Create a markdown cell to list data science languages*"
   ]
  },
  {
   "cell_type": "markdown",
   "metadata": {
    "tags": []
   },
   "source": [
    ">Some of the popular languages that Data Scientists use are:\n",
    ">1. Python \n",
    ">2. R\n",
    ">3. SQL\n",
    ">4. Scala\n",
    ">5. Java\n",
    ">6. C++\n",
    ">7. Julia.\n",
    ">\n",
    ">Other languages are: JavaScript, PHP, Go, Ruby and Visual Basic."
   ]
  },
  {
   "cell_type": "markdown",
   "metadata": {},
   "source": [
    "***Exercise 5:** Create a markdown cell to list data science libraries*"
   ]
  },
  {
   "cell_type": "markdown",
   "metadata": {
    "tags": []
   },
   "source": [
    "> Some of the commonly used libraries used by Data Scientists include:\n",
    ">\n",
    ">1. **Pandas:** offers data structures and tools for effective data cleaning, manipulation, and analysis.\n",
    ">2. **NumPy:** is based on arrays and matrices, allowing you to apply mathematical functions to the arrays.\n",
    ">3. **Matplotlib:** is the most well-known library for data visualization.\n",
    ">4. **Seaborn:** is based on matplotlib. This library generates heat maps, time series, and violin plots.\n",
    ">5. **Scikit-Learn:** contains tools for statistical modeling, including regression, classification, clustering, and so on.\n",
    ">6. **SciPy:** provides algorithms for optimization, integration, interpolation, eigenvalue problems, algebraic equations, differential equations, ...\n",
    ">7. **Keras:** allows you to build the standard deep learning model.\n",
    ">8. **TensorFlow:** is a low-level framework used in the large-scale production of deep learning models. It's designed for production and deployment but can be unwieldy for experimentation.\n",
    ">9. **PyTorch:** is used for experimentation, making it simple for researchers to test ideas. \n",
    ">\n",
    ">We also have other useful libraries like **Spark** for Apache Spark or **ggplot** in R "
   ]
  },
  {
   "cell_type": "markdown",
   "metadata": {},
   "source": [
    "***Exercise 6:** Create a markdown cell with a table of Data Science Tools*"
   ]
  },
  {
   "cell_type": "markdown",
   "metadata": {
    "tags": []
   },
   "source": [
    "> These are some of the common tools used for Data Science\n",
    ">|  Data Science Tools|\n",
    ">|:--------:|\n",
    ">|Jupyter Notebooks |\n",
    ">|  RStudio  |\n",
    ">|  VSCode |  "
   ]
  },
  {
   "cell_type": "markdown",
   "metadata": {},
   "source": [
    "***Exercise 7:** Create a markdown cell introducing arithmetic expression examples*"
   ]
  },
  {
   "cell_type": "markdown",
   "metadata": {
    "tags": []
   },
   "source": [
    "> Below are a few examples of evaluating arithmetic expressions in Python"
   ]
  },
  {
   "cell_type": "markdown",
   "metadata": {
    "tags": []
   },
   "source": [
    "***Exercise 8:** Create a code cell to multiply and add numbers*"
   ]
  },
  {
   "cell_type": "code",
   "execution_count": 1,
   "metadata": {
    "tags": []
   },
   "outputs": [
    {
     "data": {
      "text/plain": [
       "17"
      ]
     },
     "execution_count": 1,
     "metadata": {},
     "output_type": "execute_result"
    }
   ],
   "source": [
    "#This a simple arithmetic expression to mutiply then add integers\n",
    "(3*4)+5"
   ]
  },
  {
   "cell_type": "markdown",
   "metadata": {
    "tags": []
   },
   "source": [
    "***Exercise 9:** Create a code cell to convert minutes to hours*"
   ]
  },
  {
   "cell_type": "code",
   "execution_count": 3,
   "metadata": {
    "tags": []
   },
   "outputs": [
    {
     "name": "stdout",
     "output_type": "stream",
     "text": [
      "200 minutes is 3.3333333333333335  hours or  3 hours and 20  minutes.\n"
     ]
    }
   ],
   "source": [
    "#This will convert 200 minutes to hours by diving by 60.\n",
    "mins=200\n",
    "hours=mins/60\n",
    "h=mins//60\n",
    "m=mins%60\n",
    "print(mins, \"minutes is\", hours, \" hours or \" ,h, \"hours and\", m, \" minutes.\")"
   ]
  },
  {
   "cell_type": "markdown",
   "metadata": {
    "tags": []
   },
   "source": [
    "***Exercise 11:** Create a markdown cell to indicate the Author's name*"
   ]
  },
  {
   "cell_type": "markdown",
   "metadata": {},
   "source": [
    "## Author\n",
    "Sabrina Fortes"
   ]
  }
 ],
 "metadata": {
  "kernelspec": {
   "display_name": "Python",
   "language": "python",
   "name": "conda-env-python-py"
  },
  "language_info": {
   "codemirror_mode": {
    "name": "ipython",
    "version": 3
   },
   "file_extension": ".py",
   "mimetype": "text/x-python",
   "name": "python",
   "nbconvert_exporter": "python",
   "pygments_lexer": "ipython3",
   "version": "3.7.12"
  }
 },
 "nbformat": 4,
 "nbformat_minor": 4
}
